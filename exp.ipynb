{
 "cells": [
  {
   "cell_type": "code",
   "execution_count": 5,
   "metadata": {},
   "outputs": [],
   "source": [
    "import numpy as np"
   ]
  },
  {
   "cell_type": "code",
   "execution_count": 6,
   "metadata": {},
   "outputs": [
    {
     "name": "stdout",
     "output_type": "stream",
     "text": [
      "[0, 0, 1, 2]\n"
     ]
    }
   ],
   "source": [
    "from ast import Index\n",
    "\n",
    "\n",
    "a = np.arange(9).reshape(3,3)\n",
    "try:\n",
    "    a[2,2]\n",
    "except IndexError:\n",
    "    print(\"Sugar\")\n",
    "\n",
    "print([0,0]+[1,2])"
   ]
  },
  {
   "cell_type": "markdown",
   "metadata": {},
   "source": [
    "# The code below is copied from Replit"
   ]
  },
  {
   "cell_type": "code",
   "execution_count": 7,
   "metadata": {},
   "outputs": [
    {
     "data": {
      "image/png": "[encoded data removed]",
      "text/plain": [
       "<Figure size 640x480 with 1 Axes>"
      ]
     },
     "metadata": {},
     "output_type": "display_data"
    }
   ],
   "source": [
    "import random\n",
    "import matplotlib.pyplot as plt\n",
    "\n",
    "def generate_random_walk(start_coord, end_coord):\n",
    "    curr_coord = start_coord\n",
    "    walk = [curr_coord]\n",
    "    \n",
    "    while curr_coord != end_coord:\n",
    "        next_move = random.choice([(0, 1), (0, -1), (1, 0), (-1, 0)])\n",
    "        new_coord = (curr_coord[0] + next_move[0], curr_coord[1] + next_move[1])\n",
    "        \n",
    "        if (0 <= new_coord[0] <= end_coord[0] and\n",
    "            0 <= new_coord[1] <= end_coord[1]):\n",
    "            curr_coord = new_coord\n",
    "            walk.append(new_coord)\n",
    "    \n",
    "    return walk\n",
    "\n",
    "start_coord = (0, 0)\n",
    "end_coord = (4, 4)\n",
    "random_walk = generate_random_walk(start_coord, end_coord)\n",
    "\n",
    "plt.plot([step[0] for step in random_walk], [step[1] for step in random_walk])\n",
    "plt.title('Random Walk')\n",
    "plt.xlabel('X')\n",
    "plt.ylabel('Y')\n",
    "plt.grid(True)\n",
    "plt.show()"
   ]
  },
  {
   "cell_type": "markdown",
   "metadata": {},
   "source": [
    "Checking numpy implementation"
   ]
  },
  {
   "cell_type": "code",
   "execution_count": 8,
   "metadata": {},
   "outputs": [
    {
     "name": "stdout",
     "output_type": "stream",
     "text": [
      "[True, False]\n"
     ]
    }
   ],
   "source": [
    "points = [(1,2),(2,3)]\n",
    "list_ = [(0,0),(1,2),(2,2)]\n",
    "print([x in list_ for x in points])"
   ]
  },
  {
   "cell_type": "code",
   "execution_count": 22,
   "metadata": {},
   "outputs": [
    {
     "name": "stdout",
     "output_type": "stream",
     "text": [
      "[(0, 0), (0, 1), (0, 2), (0, 3), (0, 4), (1, 0), (1, 1), (1, 2), (1, 3), (1, 4), (2, 0), (2, 1), (2, 2), (2, 3), (2, 4), (3, 0), (3, 1), (3, 2), (3, 3), (3, 4), (4, 0), (4, 1), (4, 2), (4, 3), (4, 4)]\n"
     ]
    }
   ],
   "source": [
    "print([(x,y) for x in np.arange(5) for y in np.arange(5)])"
   ]
  },
  {
   "cell_type": "code",
   "execution_count": 24,
   "metadata": {},
   "outputs": [
    {
     "name": "stdout",
     "output_type": "stream",
     "text": [
      "[True, True, True]\n"
     ]
    }
   ],
   "source": [
    "maze = np.array([\n",
    "                [ 0,  0,  0,  0,  0, -1, -1, -1, -1, -1],\n",
    "                [ 0, -1, -1, -1,  0, -1, -1, -1, -1, -1],\n",
    "                [ 0,  0,  0, -1,  0, -1, -1, -1, -1, -1],\n",
    "                [-1, -1,  0, -1,  0, -1, -1, -1, -1, -1],\n",
    "                [ 0,  0,  0, -1,  0, -1, -1, -1, -1, -1],\n",
    "                [ 0, -1, -1, -1, -1, -1, -1, -1, -1, -1],\n",
    "                [ 0, -1,  0,  0,  0,  0,  0, -1, -1, -1],\n",
    "                [ 0, -1,  0, -1, -1, -1,  0, -1, -1, -1],\n",
    "                [ 0,  0,  0, -1, -1, -1,  0,  0,  0, -1],\n",
    "                [-1, -1, -1, -1, -1, -1, -1, -1, -1, -1]])\n",
    "neighbors = [(0,4),(0,8),(2,6)]\n",
    "print([maze[y][x] == 0 for (x,y) in neighbors])"
   ]
  },
  {
   "cell_type": "code",
   "execution_count": 26,
   "metadata": {},
   "outputs": [
    {
     "name": "stdout",
     "output_type": "stream",
     "text": [
      "10\n"
     ]
    }
   ],
   "source": [
    "print(np.shape(maze)[0])"
   ]
  },
  {
   "cell_type": "markdown",
   "metadata": {},
   "source": [
    "Camera implementation example from Google Assist"
   ]
  },
  {
   "cell_type": "code",
   "execution_count": 2,
   "metadata": {},
   "outputs": [
    {
     "ename": "AttributeError",
     "evalue": "'Player' object has no attribute 'rect'",
     "output_type": "error",
     "traceback": [
      "\u001b[1;31m---------------------------------------------------------------------------\u001b[0m",
      "\u001b[1;31mAttributeError\u001b[0m                            Traceback (most recent call last)",
      "Cell \u001b[1;32mIn[2], line 48\u001b[0m\n\u001b[0;32m     45\u001b[0m         clock\u001b[38;5;241m.\u001b[39mtick(\u001b[38;5;241m60\u001b[39m)\n\u001b[0;32m     47\u001b[0m \u001b[38;5;28;01mif\u001b[39;00m \u001b[38;5;18m__name__\u001b[39m \u001b[38;5;241m==\u001b[39m \u001b[38;5;124m\"\u001b[39m\u001b[38;5;124m__main__\u001b[39m\u001b[38;5;124m\"\u001b[39m:\n\u001b[1;32m---> 48\u001b[0m     \u001b[43mmain\u001b[49m\u001b[43m(\u001b[49m\u001b[43m)\u001b[49m\n",
      "Cell \u001b[1;32mIn[2], line 42\u001b[0m, in \u001b[0;36mmain\u001b[1;34m()\u001b[0m\n\u001b[0;32m     39\u001b[0m camera\u001b[38;5;241m.\u001b[39mupdate(player)\n\u001b[0;32m     41\u001b[0m screen\u001b[38;5;241m.\u001b[39mfill((\u001b[38;5;241m0\u001b[39m, \u001b[38;5;241m0\u001b[39m, \u001b[38;5;241m0\u001b[39m))\n\u001b[1;32m---> 42\u001b[0m \u001b[43mcamera\u001b[49m\u001b[38;5;241;43m.\u001b[39;49m\u001b[43mdraw\u001b[49m\u001b[43m(\u001b[49m\u001b[43mscreen\u001b[49m\u001b[43m,\u001b[49m\u001b[43m \u001b[49m\u001b[43m[\u001b[49m\u001b[43mplayer\u001b[49m\u001b[43m]\u001b[49m\u001b[43m)\u001b[49m\n\u001b[0;32m     44\u001b[0m pygame\u001b[38;5;241m.\u001b[39mdisplay\u001b[38;5;241m.\u001b[39mflip()\n\u001b[0;32m     45\u001b[0m clock\u001b[38;5;241m.\u001b[39mtick(\u001b[38;5;241m60\u001b[39m)\n",
      "Cell \u001b[1;32mIn[2], line 16\u001b[0m, in \u001b[0;36mCamera.draw\u001b[1;34m(self, screen, sprites)\u001b[0m\n\u001b[0;32m     14\u001b[0m \u001b[38;5;28;01mdef\u001b[39;00m \u001b[38;5;21mdraw\u001b[39m(\u001b[38;5;28mself\u001b[39m, screen, sprites):\n\u001b[0;32m     15\u001b[0m     \u001b[38;5;28;01mfor\u001b[39;00m sprite \u001b[38;5;129;01min\u001b[39;00m sprites:\n\u001b[1;32m---> 16\u001b[0m         screen\u001b[38;5;241m.\u001b[39mblit(sprite\u001b[38;5;241m.\u001b[39mimage, (\u001b[43msprite\u001b[49m\u001b[38;5;241;43m.\u001b[39;49m\u001b[43mrect\u001b[49m\u001b[38;5;241m.\u001b[39mx \u001b[38;5;241m-\u001b[39m \u001b[38;5;28mself\u001b[39m\u001b[38;5;241m.\u001b[39mx, sprite\u001b[38;5;241m.\u001b[39mrect\u001b[38;5;241m.\u001b[39my \u001b[38;5;241m-\u001b[39m \u001b[38;5;28mself\u001b[39m\u001b[38;5;241m.\u001b[39my))\n",
      "\u001b[1;31mAttributeError\u001b[0m: 'Player' object has no attribute 'rect'"
     ]
    },
    {
     "ename": "",
     "evalue": "",
     "output_type": "error",
     "traceback": [
      "\u001b[1;31mThe Kernel crashed while executing code in the current cell or a previous cell. \n",
      "\u001b[1;31mPlease review the code in the cell(s) to identify a possible cause of the failure. \n",
      "\u001b[1;31mClick <a href='https://aka.ms/vscodeJupyterKernelCrash'>here</a> for more info. \n",
      "\u001b[1;31mView Jupyter <a href='command:jupyter.viewOutput'>log</a> for further details."
     ]
    }
   ],
   "source": [
    "import pygame\n",
    "\n",
    "class Camera:\n",
    "    def __init__(self, width, height):\n",
    "        self.width = width\n",
    "        self.height = height\n",
    "        self.x = 0\n",
    "        self.y = 0\n",
    "\n",
    "    def update(self, player):\n",
    "        self.x = player.x - self.width / 2\n",
    "        self.y = player.y - self.height / 2\n",
    "\n",
    "    def draw(self, screen, sprites):\n",
    "        for sprite in sprites:\n",
    "            screen.blit(sprite.image, (sprite.rect.x - self.x, sprite.rect.y - self.y))\n",
    "\n",
    "class Player:\n",
    "    def __init__(self, x, y):\n",
    "        self.x = x\n",
    "        self.y = y\n",
    "        self.image = pygame.Surface((32, 32))\n",
    "        self.image.fill((255, 0, 0))\n",
    "\n",
    "def main():\n",
    "    pygame.init()\n",
    "    screen = pygame.display.set_mode((640, 480))\n",
    "    clock = pygame.time.Clock()\n",
    "\n",
    "    player = Player(100, 100)\n",
    "    camera = Camera(screen.get_width(), screen.get_height())\n",
    "\n",
    "    while True:\n",
    "        for event in pygame.event.get():\n",
    "            if event.type == pygame.QUIT:\n",
    "                pygame.quit()\n",
    "                sys.exit()\n",
    "\n",
    "        camera.update(player)\n",
    "\n",
    "        screen.fill((0, 0, 0))\n",
    "        camera.draw(screen, [player])\n",
    "\n",
    "        pygame.display.flip()\n",
    "        clock.tick(60)\n",
    "\n",
    "if __name__ == \"__main__\":\n",
    "    main()"
   ]
  },
  {
   "cell_type": "markdown",
   "metadata": {},
   "source": [
    "Camera class example from Replit"
   ]
  },
  {
   "cell_type": "code",
   "execution_count": null,
   "metadata": {},
   "outputs": [],
   "source": [
    "import pygame\n",
    "\n",
    "class Camera:\n",
    "    def __init__(self, width, height):\n",
    "        self.camera_rect = pygame.Rect(0, 0, width, height)\n",
    "    \n",
    "    def apply(self, entity):\n",
    "        return entity.rect.move(self.camera_rect.topleft)\n",
    "    \n",
    "    def update(self, target):\n",
    "        x = -target.rect.centerx + SCREEN_WIDTH // 2\n",
    "        y = -target.rect.centery + SCREEN_HEIGHT // 2\n",
    "        \n",
    "        # Limit scrolling to the size of the map\n",
    "        x = min(0, x)  # Prevent camera from scrolling past left edge\n",
    "        y = min(0, y)  # Prevent camera from scrolling past top edge\n",
    "        x = max(-(self.camera_rect.width - SCREEN_WIDTH), x)  # Prevent camera from scrolling past right edge\n",
    "        y = max(-(self.camera_rect.height - SCREEN_HEIGHT), y)  # Prevent camera from scrolling past bottom edge\n",
    "        \n",
    "        self.camera_rect = pygame.Rect(x, y, self.camera_rect.width, self.camera_rect.height)"
   ]
  },
  {
   "cell_type": "code",
   "execution_count": 1,
   "metadata": {},
   "outputs": [
    {
     "data": {
      "text/plain": [
       "[1, 2]"
      ]
     },
     "execution_count": 1,
     "metadata": {},
     "output_type": "execute_result"
    }
   ],
   "source": [
    "a= [1,2,3]\n",
    "a[:-1]"
   ]
  },
  {
   "cell_type": "code",
   "execution_count": null,
   "metadata": {},
   "outputs": [],
   "source": []
  }
 ],
 "metadata": {
  "kernelspec": {
   "display_name": "Python 3",
   "language": "python",
   "name": "python3"
  },
  "language_info": {
   "codemirror_mode": {
    "name": "ipython",
    "version": 3
   },
   "file_extension": ".py",
   "mimetype": "text/x-python",
   "name": "python",
   "nbconvert_exporter": "python",
   "pygments_lexer": "ipython3",
   "version": "3.12.2"
  }
 },
 "nbformat": 4,
 "nbformat_minor": 2
}
